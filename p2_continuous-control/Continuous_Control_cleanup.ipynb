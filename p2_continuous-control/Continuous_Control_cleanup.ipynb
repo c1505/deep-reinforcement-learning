{
 "cells": [
  {
   "cell_type": "markdown",
   "metadata": {},
   "source": [
    "# Continuous Control\n",
    "\n",
    "---\n",
    "\n",
    "In this notebook, you will learn how to use the Unity ML-Agents environment for the second project of the [Deep Reinforcement Learning Nanodegree](https://www.udacity.com/course/deep-reinforcement-learning-nanodegree--nd893) program.\n",
    "\n",
    "### 1. Start the Environment\n",
    "\n",
    "We begin by importing the necessary packages.  If the code cell below returns an error, please revisit the project instructions to double-check that you have installed [Unity ML-Agents](https://github.com/Unity-Technologies/ml-agents/blob/master/docs/Installation.md) and [NumPy](http://www.numpy.org/)."
   ]
  },
  {
   "cell_type": "code",
   "execution_count": 1,
   "metadata": {},
   "outputs": [],
   "source": [
    "from unityagents import UnityEnvironment\n",
    "import numpy as np\n",
    "\n",
    "import random\n",
    "import torch\n",
    "from collections import deque\n",
    "import matplotlib.pyplot as plt\n",
    "%matplotlib inline\n",
    "\n",
    "import argparse\n",
    "import os\n",
    "import utils\n",
    "import TD3\n",
    "\n",
    "import wandb"
   ]
  },
  {
   "cell_type": "markdown",
   "metadata": {},
   "source": [
    "Next, we will start the environment!  **_Before running the code cell below_**, change the `file_name` parameter to match the location of the Unity environment that you downloaded.\n",
    "\n",
    "- **Mac**: `\"path/to/Reacher.app\"`\n",
    "- **Windows** (x86): `\"path/to/Reacher_Windows_x86/Reacher.exe\"`\n",
    "- **Windows** (x86_64): `\"path/to/Reacher_Windows_x86_64/Reacher.exe\"`\n",
    "- **Linux** (x86): `\"path/to/Reacher_Linux/Reacher.x86\"`\n",
    "- **Linux** (x86_64): `\"path/to/Reacher_Linux/Reacher.x86_64\"`\n",
    "- **Linux** (x86, headless): `\"path/to/Reacher_Linux_NoVis/Reacher.x86\"`\n",
    "- **Linux** (x86_64, headless): `\"path/to/Reacher_Linux_NoVis/Reacher.x86_64\"`\n",
    "\n",
    "For instance, if you are using a Mac, then you downloaded `Reacher.app`.  If this file is in the same folder as the notebook, then the line below should appear as follows:\n",
    "```\n",
    "env = UnityEnvironment(file_name=\"Reacher.app\")\n",
    "```"
   ]
  },
  {
   "cell_type": "code",
   "execution_count": 2,
   "metadata": {},
   "outputs": [
    {
     "name": "stderr",
     "output_type": "stream",
     "text": [
      "INFO:unityagents:\n",
      "'Academy' started successfully!\n",
      "Unity Academy name: Academy\n",
      "        Number of Brains: 1\n",
      "        Number of External Brains : 1\n",
      "        Lesson number : 0\n",
      "        Reset Parameters :\n",
      "\t\tgoal_speed -> 1.0\n",
      "\t\tgoal_size -> 5.0\n",
      "Unity brain name: ReacherBrain\n",
      "        Number of Visual Observations (per agent): 0\n",
      "        Vector Observation space type: continuous\n",
      "        Vector Observation space size (per agent): 33\n",
      "        Number of stacked Vector Observation: 1\n",
      "        Vector Action space type: continuous\n",
      "        Vector Action space size (per agent): 4\n",
      "        Vector Action descriptions: , , , \n"
     ]
    }
   ],
   "source": [
    "env = UnityEnvironment(file_name='/home/corey/reinforcement-learning/udacity/deep-reinforcement-learning/p2_continuous-control/Reacher_Linux/Reacher.x86_64')"
   ]
  },
  {
   "cell_type": "markdown",
   "metadata": {},
   "source": [
    "Environments contain **_brains_** which are responsible for deciding the actions of their associated agents. Here we check for the first brain available, and set it as the default brain we will be controlling from Python."
   ]
  },
  {
   "cell_type": "code",
   "execution_count": 3,
   "metadata": {},
   "outputs": [],
   "source": [
    "# get the default brain\n",
    "brain_name = env.brain_names[0]\n",
    "brain = env.brains[brain_name]"
   ]
  },
  {
   "cell_type": "markdown",
   "metadata": {},
   "source": [
    "### 2. Examine the State and Action Spaces\n",
    "\n",
    "In this environment, a double-jointed arm can move to target locations. A reward of `+0.1` is provided for each step that the agent's hand is in the goal location. Thus, the goal of your agent is to maintain its position at the target location for as many time steps as possible.\n",
    "\n",
    "The observation space consists of `33` variables corresponding to position, rotation, velocity, and angular velocities of the arm.  Each action is a vector with four numbers, corresponding to torque applicable to two joints.  Every entry in the action vector must be a number between `-1` and `1`.\n",
    "\n",
    "Run the code cell below to print some information about the environment."
   ]
  },
  {
   "cell_type": "code",
   "execution_count": 4,
   "metadata": {},
   "outputs": [
    {
     "name": "stdout",
     "output_type": "stream",
     "text": [
      "Number of agents: 1\n",
      "Size of each action: 4\n",
      "There are 1 agents. Each observes a state with length: 33\n",
      "The state for the first agent looks like: [ 0.00000000e+00 -4.00000000e+00  0.00000000e+00  1.00000000e+00\n",
      " -0.00000000e+00 -0.00000000e+00 -4.37113883e-08  0.00000000e+00\n",
      "  0.00000000e+00  0.00000000e+00  0.00000000e+00  0.00000000e+00\n",
      "  0.00000000e+00  0.00000000e+00 -1.00000000e+01  0.00000000e+00\n",
      "  1.00000000e+00 -0.00000000e+00 -0.00000000e+00 -4.37113883e-08\n",
      "  0.00000000e+00  0.00000000e+00  0.00000000e+00  0.00000000e+00\n",
      "  0.00000000e+00  0.00000000e+00  5.75471878e+00 -1.00000000e+00\n",
      "  5.55726671e+00  0.00000000e+00  1.00000000e+00  0.00000000e+00\n",
      " -1.68164849e-01]\n"
     ]
    }
   ],
   "source": [
    "# reset the environment\n",
    "env_info = env.reset(train_mode=True)[brain_name]\n",
    "\n",
    "# number of agents\n",
    "num_agents = len(env_info.agents)\n",
    "print('Number of agents:', num_agents)\n",
    "\n",
    "# size of each action\n",
    "action_size = brain.vector_action_space_size\n",
    "print('Size of each action:', action_size)\n",
    "\n",
    "# examine the state space \n",
    "states = env_info.vector_observations\n",
    "state_size = states.shape[1]\n",
    "print('There are {} agents. Each observes a state with length: {}'.format(states.shape[0], state_size))\n",
    "print('The state for the first agent looks like:', states[0])"
   ]
  },
  {
   "cell_type": "markdown",
   "metadata": {},
   "source": [
    "### 3. Take Random Actions in the Environment\n",
    "\n",
    "In the next code cell, you will learn how to use the Python API to control the agent and receive feedback from the environment.\n",
    "\n",
    "Once this cell is executed, you will watch the agent's performance, if it selects an action at random with each time step.  A window should pop up that allows you to observe the agent, as it moves through the environment.  \n",
    "\n",
    "Of course, as part of the project, you'll have to change the code so that the agent is able to use its experience to gradually choose better actions when interacting with the environment!"
   ]
  },
  {
   "cell_type": "code",
   "execution_count": null,
   "metadata": {},
   "outputs": [],
   "source": [
    "env_info = env.reset(train_mode=False)[brain_name]     # reset the environment    \n",
    "states = env_info.vector_observations                  # get the current state (for each agent)\n",
    "scores = np.zeros(num_agents)                          # initialize the score (for each agent)\n",
    "timesteps = 0\n",
    "while True:\n",
    "    timesteps += 1\n",
    "    actions = np.random.randn(num_agents, action_size) # select an action (for each agent)\n",
    "    actions = np.clip(actions, -1, 1)                  # all actions between -1 and 1\n",
    "    env_info = env.step(actions)[brain_name]           # send all actions to tne environment\n",
    "    next_states = env_info.vector_observations         # get next state (for each agent)\n",
    "    rewards = env_info.rewards                         # get reward (for each agent)\n",
    "    dones = env_info.local_done                        # see if episode finished\n",
    "    scores += env_info.rewards                         # update the score (for each agent)\n",
    "    states = next_states                               # roll over states to next time step\n",
    "    if np.any(dones):                                  # exit loop if episode finished\n",
    "        break\n",
    "print('Total score (averaged over agents) this episode: {}'.format(np.mean(scores)))"
   ]
  },
  {
   "cell_type": "markdown",
   "metadata": {},
   "source": [
    "### 4. It's Your Turn!\n",
    "\n",
    "Now it's your turn to train your own agent to solve the environment!  When training the environment, set `train_mode=True`, so that the line for resetting the environment looks like the following:\n",
    "```python\n",
    "env_info = env.reset(train_mode=True)[brain_name]\n",
    "```"
   ]
  },
  {
   "cell_type": "code",
   "execution_count": 5,
   "metadata": {},
   "outputs": [],
   "source": [
    "env_info = env.reset(train_mode=True)[brain_name]"
   ]
  },
  {
   "attachments": {},
   "cell_type": "markdown",
   "metadata": {},
   "source": [
    "# Adapting TD3 to work with reacher env"
   ]
  },
  {
   "cell_type": "code",
   "execution_count": null,
   "metadata": {},
   "outputs": [],
   "source": [
    "\n",
    "# Runs policy for X episodes and returns average reward\n",
    "# A fixed seed is used for the eval environment\n",
    "def eval_policy(policy, env_name, seed, eval_episodes=10):\n",
    "\teval_env = gym.make(env_name)\n",
    "\teval_env.seed(seed + 100)\n",
    "\n",
    "\tavg_reward = 0.\n",
    "\tfor _ in range(eval_episodes):\n",
    "\t\tstate, done = eval_env.reset(), False\n",
    "\t\twhile not done:\n",
    "\t\t\taction = policy.select_action(np.array(state))\n",
    "\t\t\tstate, reward, done, _ = eval_env.step(action)\n",
    "\t\t\tavg_reward += reward\n",
    "\n",
    "\tavg_reward /= eval_episodes\n",
    "    # eval_string_label = f\"Evaluation over {eval_episodes} episodes\"\n",
    "    # wandb.log({eval_string_label: avg_reward})\n",
    "\tprint(\"---------------------------------------\")\n",
    "\tprint(f\"Evaluation over {eval_episodes} episodes: {avg_reward:.3f}\")\n",
    "\tprint(\"---------------------------------------\")\n",
    "\treturn avg_reward"
   ]
  },
  {
   "cell_type": "code",
   "execution_count": 6,
   "metadata": {},
   "outputs": [],
   "source": [
    "\n",
    "# Hyperparameters\n",
    "policy =\"TD3\"                 # Policy name (TD3, DDPG or OurDDPG)\n",
    "seed = 0               # Sets Gym, PyTorch and Numpy seeds\n",
    "start_timesteps = 25e3# Time steps initial random policy is used\n",
    "# max_timesteps = 329_329\n",
    "max_timesteps = 100_000\n",
    "eval_freq = 5e3      # How often (time steps) we evaluate\n",
    "# max_timesteps = int(1e6)   # Max time steps to run environment\n",
    "expl_noise = 0.1              # Std of Gaussian exploration noise\n",
    "batch_size = 256      # Batch size for both actor and critic\n",
    "discount = 0.99                 # Discount factor\n",
    "tau = 0.005                     # Target network update rate\n",
    "policy_noise = 0.2              # Noise added to target policy during critic update\n",
    "noise_clip = 0.5                # Range to clip target policy noise\n",
    "policy_freq = 2       # Frequency of delayed policy updates\n",
    "save_model = True        # Save model and optimizer parameters\n",
    "load_model = \"\"                # Model load file name, \"\" doesn't load, \"default\" uses file_name"
   ]
  },
  {
   "cell_type": "code",
   "execution_count": 7,
   "metadata": {},
   "outputs": [],
   "source": [
    "\n",
    "wandb.init(project=\"Continuous-Control\")\n",
    "\n",
    "wandb.config = {\n",
    "    \"policy\": policy,\n",
    "    \"seed\": seed, \n",
    "    #TODO add the rest\n",
    "}\n",
    "\n",
    "if not os.path.exists(\"./results\"):\n",
    "    os.makedirs(\"./results\")\n",
    "\n",
    "if save_model and not os.path.exists(\"./models\"):\n",
    "    os.makedirs(\"./models\")\n",
    "torch.manual_seed(seed)\n",
    "np.random.seed(seed)"
   ]
  },
  {
   "cell_type": "code",
   "execution_count": 8,
   "metadata": {},
   "outputs": [],
   "source": [
    "env_info = env.reset(train_mode=True)[brain_name]\n",
    "\n",
    "action_size = brain.vector_action_space_size\n",
    "\n",
    "states = env_info.vector_observations\n",
    "state_size = states.shape[1]\n",
    "\n",
    "state_dim = state_size\n",
    "action_dim = action_size\n",
    "max_action = 1.0"
   ]
  },
  {
   "cell_type": "code",
   "execution_count": 9,
   "metadata": {},
   "outputs": [],
   "source": [
    "kwargs = {\n",
    "    \"state_dim\": state_dim,\n",
    "    \"action_dim\": action_dim,\n",
    "    \"max_action\": max_action,\n",
    "    \"discount\": discount,\n",
    "    \"tau\": tau,\n",
    "}\n",
    "\n",
    "# Initialize policy\n",
    "if policy == \"TD3\":\n",
    "    # Target policy smoothing is scaled wrt the action scale\n",
    "    kwargs[\"policy_noise\"] = policy_noise * max_action\n",
    "    kwargs[\"noise_clip\"] = noise_clip * max_action\n",
    "    kwargs[\"policy_freq\"] = policy_freq\n",
    "    policy = TD3.TD3(**kwargs)\n",
    "\n",
    "if load_model != \"\":\n",
    "    policy_file = file_name if load_model == \"default\" else load_model\n",
    "    policy.load(f\"./models/{policy_file}\")\n",
    "\n",
    "replay_buffer = utils.ReplayBuffer(state_dim, action_dim)"
   ]
  },
  {
   "cell_type": "code",
   "execution_count": 10,
   "metadata": {},
   "outputs": [],
   "source": [
    "# # Evaluate untrained policy\n",
    "# evaluations = [eval_policy(policy, env_name, seed)]\n",
    "\n",
    "env_info = env.reset(train_mode=True)[brain_name] \n",
    "state = env_info.vector_observations[0]\n",
    "done = env_info.local_done[0]\n",
    "  \n",
    "episode_reward = 0\n",
    "episode_timesteps = 0\n",
    "episode_num = 0\n",
    "\n",
    "wandb.watch(policy.actor, log_freq=100)"
   ]
  },
  {
   "cell_type": "code",
   "execution_count": 12,
   "metadata": {},
   "outputs": [
    {
     "name": "stdout",
     "output_type": "stream",
     "text": [
      "Total T: 719 Episode Num: 56 Episode T: 1002 Reward: 1.050\n",
      "Total T: 1721 Episode Num: 57 Episode T: 1002 Reward: 0.000\n",
      "Total T: 2723 Episode Num: 58 Episode T: 1002 Reward: 0.000\n",
      "Total T: 3725 Episode Num: 59 Episode T: 1002 Reward: 0.000\n",
      "Total T: 4727 Episode Num: 60 Episode T: 1002 Reward: 0.000\n",
      "Episode 60\tAverage Score: 0.21\n",
      "Total T: 5729 Episode Num: 61 Episode T: 1002 Reward: 0.000\n",
      "Total T: 6731 Episode Num: 62 Episode T: 1002 Reward: 0.000\n",
      "Total T: 7733 Episode Num: 63 Episode T: 1002 Reward: 0.000\n",
      "Total T: 8735 Episode Num: 64 Episode T: 1002 Reward: 0.000\n",
      "Total T: 9737 Episode Num: 65 Episode T: 1002 Reward: 0.000\n",
      "Total T: 10739 Episode Num: 66 Episode T: 1002 Reward: 0.000\n",
      "Total T: 11741 Episode Num: 67 Episode T: 1002 Reward: 0.000\n",
      "Total T: 12743 Episode Num: 68 Episode T: 1002 Reward: 0.170\n",
      "Total T: 13745 Episode Num: 69 Episode T: 1002 Reward: 0.000\n",
      "Total T: 14747 Episode Num: 70 Episode T: 1002 Reward: 0.000\n",
      "Episode 70\tAverage Score: 0.02\n",
      "Total T: 15749 Episode Num: 71 Episode T: 1002 Reward: 0.000\n",
      "Total T: 16751 Episode Num: 72 Episode T: 1002 Reward: 0.000\n",
      "Total T: 17753 Episode Num: 73 Episode T: 1002 Reward: 0.000\n",
      "Total T: 18755 Episode Num: 74 Episode T: 1002 Reward: 0.000\n",
      "Total T: 19757 Episode Num: 75 Episode T: 1002 Reward: 0.000\n",
      "Total T: 20759 Episode Num: 76 Episode T: 1002 Reward: 0.000\n",
      "Total T: 21761 Episode Num: 77 Episode T: 1002 Reward: 0.000\n",
      "Total T: 22763 Episode Num: 78 Episode T: 1002 Reward: 0.000\n",
      "Total T: 23765 Episode Num: 79 Episode T: 1002 Reward: 0.190\n",
      "Total T: 24767 Episode Num: 80 Episode T: 1002 Reward: 0.000\n",
      "Episode 80\tAverage Score: 0.02\n",
      "Total T: 25769 Episode Num: 81 Episode T: 1002 Reward: 2.700\n",
      "Total T: 26771 Episode Num: 82 Episode T: 1002 Reward: 4.780\n",
      "Total T: 27773 Episode Num: 83 Episode T: 1002 Reward: 5.620\n",
      "Total T: 28775 Episode Num: 84 Episode T: 1002 Reward: 3.480\n",
      "Total T: 29777 Episode Num: 85 Episode T: 1002 Reward: 6.190\n",
      "Total T: 30779 Episode Num: 86 Episode T: 1002 Reward: 4.040\n",
      "Total T: 31781 Episode Num: 87 Episode T: 1002 Reward: 2.560\n",
      "Total T: 32783 Episode Num: 88 Episode T: 1002 Reward: 12.860\n",
      "Total T: 33785 Episode Num: 89 Episode T: 1002 Reward: 7.730\n",
      "Total T: 34787 Episode Num: 90 Episode T: 1002 Reward: 4.290\n",
      "Episode 90\tAverage Score: 5.42\n",
      "Total T: 35789 Episode Num: 91 Episode T: 1002 Reward: 3.340\n"
     ]
    },
    {
     "ename": "KeyboardInterrupt",
     "evalue": "",
     "output_type": "error",
     "traceback": [
      "\u001b[0;31m---------------------------------------------------------------------------\u001b[0m",
      "\u001b[0;31mKeyboardInterrupt\u001b[0m                         Traceback (most recent call last)",
      "\u001b[0;32m<ipython-input-12-ee1661964de6>\u001b[0m in \u001b[0;36m<module>\u001b[0;34m\u001b[0m\n\u001b[1;32m     29\u001b[0m     \u001b[0;31m# Train agent after collecting sufficient data\u001b[0m\u001b[0;34m\u001b[0m\u001b[0;34m\u001b[0m\u001b[0;34m\u001b[0m\u001b[0m\n\u001b[1;32m     30\u001b[0m     \u001b[0;32mif\u001b[0m \u001b[0mt\u001b[0m \u001b[0;34m>=\u001b[0m \u001b[0mstart_timesteps\u001b[0m\u001b[0;34m:\u001b[0m\u001b[0;34m\u001b[0m\u001b[0;34m\u001b[0m\u001b[0m\n\u001b[0;32m---> 31\u001b[0;31m         \u001b[0mpolicy\u001b[0m\u001b[0;34m.\u001b[0m\u001b[0mtrain\u001b[0m\u001b[0;34m(\u001b[0m\u001b[0mreplay_buffer\u001b[0m\u001b[0;34m,\u001b[0m \u001b[0mbatch_size\u001b[0m\u001b[0;34m)\u001b[0m\u001b[0;34m\u001b[0m\u001b[0;34m\u001b[0m\u001b[0m\n\u001b[0m\u001b[1;32m     32\u001b[0m \u001b[0;34m\u001b[0m\u001b[0m\n\u001b[1;32m     33\u001b[0m     \u001b[0;32mif\u001b[0m \u001b[0mdone\u001b[0m\u001b[0;34m:\u001b[0m\u001b[0;34m\u001b[0m\u001b[0;34m\u001b[0m\u001b[0m\n",
      "\u001b[0;32m~/reinforcement-learning/udacity/deep-reinforcement-learning/p2_continuous-control/TD3.py\u001b[0m in \u001b[0;36mtrain\u001b[0;34m(self, replay_buffer, batch_size)\u001b[0m\n\u001b[1;32m    103\u001b[0m \u001b[0;34m\u001b[0m\u001b[0m\n\u001b[1;32m    104\u001b[0m         \u001b[0;32mdef\u001b[0m \u001b[0mtrain\u001b[0m\u001b[0;34m(\u001b[0m\u001b[0mself\u001b[0m\u001b[0;34m,\u001b[0m \u001b[0mreplay_buffer\u001b[0m\u001b[0;34m,\u001b[0m \u001b[0mbatch_size\u001b[0m\u001b[0;34m=\u001b[0m\u001b[0;36m256\u001b[0m\u001b[0;34m)\u001b[0m\u001b[0;34m:\u001b[0m\u001b[0;34m\u001b[0m\u001b[0;34m\u001b[0m\u001b[0m\n\u001b[0;32m--> 105\u001b[0;31m                 \u001b[0mself\u001b[0m\u001b[0;34m.\u001b[0m\u001b[0mtotal_it\u001b[0m \u001b[0;34m+=\u001b[0m \u001b[0;36m1\u001b[0m\u001b[0;34m\u001b[0m\u001b[0;34m\u001b[0m\u001b[0m\n\u001b[0m\u001b[1;32m    106\u001b[0m \u001b[0;34m\u001b[0m\u001b[0m\n\u001b[1;32m    107\u001b[0m                 \u001b[0;31m# Sample replay buffer\u001b[0m\u001b[0;34m\u001b[0m\u001b[0;34m\u001b[0m\u001b[0;34m\u001b[0m\u001b[0m\n",
      "\u001b[0;31mKeyboardInterrupt\u001b[0m: "
     ]
    }
   ],
   "source": [
    "\n",
    "print_every = 100\n",
    "scores_deque = deque(maxlen=print_every)\n",
    "scores = []\n",
    "for t in range(int(max_timesteps)):\n",
    "    \n",
    "    episode_timesteps += 1\n",
    "\n",
    "    # Select action randomly or according to policy\n",
    "    if t < start_timesteps:\n",
    "        action = np.random.rand(1, action_size)\n",
    "    else:\n",
    "        action = (\n",
    "            policy.select_action(np.array(state))\n",
    "            + np.random.normal(0, max_action * expl_noise, size=action_dim)\n",
    "        ).clip(-max_action, max_action)\n",
    "\n",
    "    # Perform action\n",
    "    env_info = env.step(action)[brain_name]\n",
    "    next_state = env_info.vector_observations[0]\n",
    "    reward = env_info.rewards[0]\n",
    "    done = env_info.local_done[0]  \n",
    "    done_bool = float(done) if env_info.max_reached[0] else 0\n",
    "\n",
    "    # Store data in replay buffer\n",
    "    replay_buffer.add(state, action, next_state, reward, done_bool)\n",
    "\n",
    "    state = next_state\n",
    "    episode_reward += reward\n",
    "\n",
    "    # Train agent after collecting sufficient data\n",
    "    if t >= start_timesteps:\n",
    "        policy.train(replay_buffer, batch_size)\n",
    "\n",
    "    if done: \n",
    "        # +1 to account for 0 indexing. +0 on ep_timesteps since it will increment +1 even if done=True\n",
    "        wandb.log({\"episode number\": episode_num + 1})\n",
    "        wandb.log({\"episode timesteps\": episode_timesteps})\n",
    "        wandb.log({\"episode reward\": episode_reward})\n",
    "        wandb.log({\"total timesteps\": t + 1})\n",
    "        \n",
    "        \n",
    "        print(f\"Total T: {t+1} Episode Num: {episode_num+1} Episode T: {episode_timesteps} Reward: {episode_reward:.3f}\")\n",
    "        # Reset environment\n",
    "        env_info = env.reset(train_mode=True)[brain_name] \n",
    "        state = env_info.vector_observations[0]\n",
    "        done = env_info.local_done[0]\n",
    "        scores.append(episode_reward)\n",
    "        scores_deque.append(episode_reward)  \n",
    "        episode_reward = 0\n",
    "        episode_timesteps = 0\n",
    "        episode_num += 1\n",
    "        if episode_num % print_every == 0:\n",
    "            print('\\rEpisode {}\\tAverage Score: {:.2f}'.format(episode_num, np.mean(scores_deque)))\n",
    "            wandb.log({\"Average Reward over last 100 episodes\": np.mean(scores_deque)})\n",
    "\n",
    "\n",
    "    # # Evaluate episode\n",
    "    # if (t + 1) % eval_freq == 0:\n",
    "    #     evaluations.append(eval_policy(policy, env_name, seed))\n",
    "    #     np.save(f\"./results/{file_name}\", evaluations)\n",
    "    #     if save_model: policy.save(f\"./models/{file_name}\")\n",
    "wandb.finish()\n"
   ]
  },
  {
   "cell_type": "code",
   "execution_count": null,
   "metadata": {},
   "outputs": [],
   "source": [
    "policy.save(f\"./models/308_reacher_2\")"
   ]
  }
 ],
 "metadata": {
  "kernelspec": {
   "display_name": "drlnd_fresh",
   "language": "python",
   "name": "drlnd_fresh"
  },
  "language_info": {
   "codemirror_mode": {
    "name": "ipython",
    "version": 3
   },
   "file_extension": ".py",
   "mimetype": "text/x-python",
   "name": "python",
   "nbconvert_exporter": "python",
   "pygments_lexer": "ipython3",
   "version": "3.6.13"
  }
 },
 "nbformat": 4,
 "nbformat_minor": 2
}
